{
 "cells": [
  {
   "cell_type": "code",
   "execution_count": 1,
   "id": "7920ac57-1130-4516-8619-7c91dfd0161b",
   "metadata": {
    "scrolled": true
   },
   "outputs": [
    {
     "name": "stdout",
     "output_type": "stream",
     "text": [
      "Collecting nltk\n",
      "  Downloading nltk-3.9.1-py3-none-any.whl.metadata (2.9 kB)\n",
      "Requirement already satisfied: click in /opt/conda/lib/python3.11/site-packages (from nltk) (8.1.7)\n",
      "Requirement already satisfied: joblib in /opt/conda/lib/python3.11/site-packages (from nltk) (1.3.2)\n",
      "Collecting regex>=2021.8.3 (from nltk)\n",
      "  Downloading regex-2024.9.11-cp311-cp311-manylinux_2_17_x86_64.manylinux2014_x86_64.whl.metadata (40 kB)\n",
      "Requirement already satisfied: tqdm in /opt/conda/lib/python3.11/site-packages (from nltk) (4.66.1)\n",
      "Downloading nltk-3.9.1-py3-none-any.whl (1.5 MB)\n",
      "\u001b[2K   \u001b[90m━━━━━━━━━━━━━━━━━━━━━━━━━━━━━━━━━━━━━━━━\u001b[0m \u001b[32m1.5/1.5 MB\u001b[0m \u001b[31m435.1 kB/s\u001b[0m eta \u001b[36m0:00:00\u001b[0ma \u001b[36m0:00:01\u001b[0m\n",
      "\u001b[?25hDownloading regex-2024.9.11-cp311-cp311-manylinux_2_17_x86_64.manylinux2014_x86_64.whl (792 kB)\n",
      "\u001b[2K   \u001b[90m━━━━━━━━━━━━━━━━━━━━━━━━━━━━━━━━━━━━━━━\u001b[0m \u001b[32m792.8/792.8 kB\u001b[0m \u001b[31m658.4 kB/s\u001b[0m eta \u001b[36m0:00:00\u001b[0ma \u001b[36m0:00:01\u001b[0m\n",
      "\u001b[?25hInstalling collected packages: regex, nltk\n",
      "Successfully installed nltk-3.9.1 regex-2024.9.11\n",
      "\n",
      "\u001b[1m[\u001b[0m\u001b[34;49mnotice\u001b[0m\u001b[1;39;49m]\u001b[0m\u001b[39;49m A new release of pip is available: \u001b[0m\u001b[31;49m24.2\u001b[0m\u001b[39;49m -> \u001b[0m\u001b[32;49m24.3.1\u001b[0m\n",
      "\u001b[1m[\u001b[0m\u001b[34;49mnotice\u001b[0m\u001b[1;39;49m]\u001b[0m\u001b[39;49m To update, run: \u001b[0m\u001b[32;49mpip install --upgrade pip\u001b[0m\n"
     ]
    }
   ],
   "source": [
    "!pip install nltk"
   ]
  },
  {
   "cell_type": "code",
   "execution_count": 9,
   "id": "6f5649b9-8d21-4f85-8a60-a3d18bfd0e0d",
   "metadata": {
    "scrolled": true
   },
   "outputs": [
    {
     "name": "stderr",
     "output_type": "stream",
     "text": [
      "[nltk_data] Downloading package punkt to /home/jovyan/nltk_data...\n",
      "[nltk_data]   Unzipping tokenizers/punkt.zip.\n",
      "[nltk_data] Downloading package punkt_tab to /home/jovyan/nltk_data...\n",
      "[nltk_data]   Unzipping tokenizers/punkt_tab.zip.\n"
     ]
    },
    {
     "data": {
      "text/plain": [
       "True"
      ]
     },
     "execution_count": 9,
     "metadata": {},
     "output_type": "execute_result"
    }
   ],
   "source": [
    "import nltk\n",
    "nltk.download('punkt')\n",
    "\n",
    "nltk.download('punkt_tab')"
   ]
  },
  {
   "cell_type": "code",
   "execution_count": 13,
   "id": "09d3abd0-5f6f-4f84-9816-05417c31abef",
   "metadata": {},
   "outputs": [],
   "source": [
    "corpus = \"\"\"Hawking began his schooling at the Byron House School in Highgate, London. \n",
    "He later blamed its \"progressive methods\" for his failure to learn to read while at the school. \n",
    "In St Albans, the eight-year-old Hawking attended St Albans High School for Girls for a few months. \n",
    "At that time, younger boys could attend one of the houses.\n",
    "\"\"\""
   ]
  },
  {
   "cell_type": "code",
   "execution_count": 14,
   "id": "e9f1e039-5675-47d5-bf7e-ab008c503667",
   "metadata": {},
   "outputs": [
    {
     "name": "stdout",
     "output_type": "stream",
     "text": [
      "Hawking began his schooling at the Byron House School in Highgate, London. \n",
      "He later blamed its \"progressive methods\" for his failure to learn to read while at the school. \n",
      "In St Albans, the eight-year-old Hawking attended St Albans High School for Girls for a few months. \n",
      "At that time, younger boys could attend one of the houses.\n",
      "\n"
     ]
    }
   ],
   "source": [
    "print(corpus)"
   ]
  },
  {
   "cell_type": "code",
   "execution_count": 16,
   "id": "56460311-55ee-4a89-908d-6ba1110f2567",
   "metadata": {},
   "outputs": [
    {
     "data": {
      "text/plain": [
       "list"
      ]
     },
     "execution_count": 16,
     "metadata": {},
     "output_type": "execute_result"
    }
   ],
   "source": [
    "from nltk.tokenize import sent_tokenize\n",
    "\n",
    "documents = sent_tokenize(corpus)\n",
    "type(documents)"
   ]
  },
  {
   "cell_type": "code",
   "execution_count": 17,
   "id": "bac3c0c4-4bae-47e1-ab7a-808bd1b9e37d",
   "metadata": {},
   "outputs": [
    {
     "name": "stdout",
     "output_type": "stream",
     "text": [
      "Hawking began his schooling at the Byron House School in Highgate, London.\n",
      "He later blamed its \"progressive methods\" for his failure to learn to read while at the school.\n",
      "In St Albans, the eight-year-old Hawking attended St Albans High School for Girls for a few months.\n",
      "At that time, younger boys could attend one of the houses.\n"
     ]
    }
   ],
   "source": [
    "for sentence in documents:\n",
    "    print(sentence)"
   ]
  },
  {
   "cell_type": "code",
   "execution_count": 18,
   "id": "0d6c6315-e39c-4798-82f4-decbcc49b5bd",
   "metadata": {},
   "outputs": [
    {
     "name": "stdout",
     "output_type": "stream",
     "text": [
      "['Hawking', 'began', 'his', 'schooling', 'at', 'the', 'Byron', 'House', 'School', 'in', 'Highgate', ',', 'London', '.']\n",
      "['He', 'later', 'blamed', 'its', '``', 'progressive', 'methods', \"''\", 'for', 'his', 'failure', 'to', 'learn', 'to', 'read', 'while', 'at', 'the', 'school', '.']\n",
      "['In', 'St', 'Albans', ',', 'the', 'eight-year-old', 'Hawking', 'attended', 'St', 'Albans', 'High', 'School', 'for', 'Girls', 'for', 'a', 'few', 'months', '.']\n",
      "['At', 'that', 'time', ',', 'younger', 'boys', 'could', 'attend', 'one', 'of', 'the', 'houses', '.']\n"
     ]
    }
   ],
   "source": [
    "from nltk.tokenize import word_tokenize\n",
    "\n",
    "for sentence in documents:\n",
    "    print(word_tokenize(sentence))\n",
    "\n",
    "#word_tokenize(corpus)"
   ]
  },
  {
   "cell_type": "code",
   "execution_count": 19,
   "id": "efe06833-54c9-4ea6-a941-d3683abd7e7e",
   "metadata": {
    "scrolled": true
   },
   "outputs": [
    {
     "data": {
      "text/plain": [
       "['Hawking',\n",
       " 'began',\n",
       " 'his',\n",
       " 'schooling',\n",
       " 'at',\n",
       " 'the',\n",
       " 'Byron',\n",
       " 'House',\n",
       " 'School',\n",
       " 'in',\n",
       " 'Highgate',\n",
       " ',',\n",
       " 'London',\n",
       " '.',\n",
       " 'He',\n",
       " 'later',\n",
       " 'blamed',\n",
       " 'its',\n",
       " '\"',\n",
       " 'progressive',\n",
       " 'methods',\n",
       " '\"',\n",
       " 'for',\n",
       " 'his',\n",
       " 'failure',\n",
       " 'to',\n",
       " 'learn',\n",
       " 'to',\n",
       " 'read',\n",
       " 'while',\n",
       " 'at',\n",
       " 'the',\n",
       " 'school',\n",
       " '.',\n",
       " 'In',\n",
       " 'St',\n",
       " 'Albans',\n",
       " ',',\n",
       " 'the',\n",
       " 'eight',\n",
       " '-',\n",
       " 'year',\n",
       " '-',\n",
       " 'old',\n",
       " 'Hawking',\n",
       " 'attended',\n",
       " 'St',\n",
       " 'Albans',\n",
       " 'High',\n",
       " 'School',\n",
       " 'for',\n",
       " 'Girls',\n",
       " 'for',\n",
       " 'a',\n",
       " 'few',\n",
       " 'months',\n",
       " '.',\n",
       " 'At',\n",
       " 'that',\n",
       " 'time',\n",
       " ',',\n",
       " 'younger',\n",
       " 'boys',\n",
       " 'could',\n",
       " 'attend',\n",
       " 'one',\n",
       " 'of',\n",
       " 'the',\n",
       " 'houses',\n",
       " '.']"
      ]
     },
     "execution_count": 19,
     "metadata": {},
     "output_type": "execute_result"
    }
   ],
   "source": [
    "from nltk.tokenize import wordpunct_tokenize\n",
    "\n",
    "wordpunct_tokenize(corpus)"
   ]
  },
  {
   "cell_type": "code",
   "execution_count": 21,
   "id": "04337f2d-6a4b-472f-8f8f-e57625dd3d0d",
   "metadata": {
    "scrolled": true
   },
   "outputs": [
    {
     "data": {
      "text/plain": [
       "['Hawking',\n",
       " 'began',\n",
       " 'his',\n",
       " 'schooling',\n",
       " 'at',\n",
       " 'the',\n",
       " 'Byron',\n",
       " 'House',\n",
       " 'School',\n",
       " 'in',\n",
       " 'Highgate',\n",
       " ',',\n",
       " 'London.',\n",
       " 'He',\n",
       " 'later',\n",
       " 'blamed',\n",
       " 'its',\n",
       " '``',\n",
       " 'progressive',\n",
       " 'methods',\n",
       " \"''\",\n",
       " 'for',\n",
       " 'his',\n",
       " 'failure',\n",
       " 'to',\n",
       " 'learn',\n",
       " 'to',\n",
       " 'read',\n",
       " 'while',\n",
       " 'at',\n",
       " 'the',\n",
       " 'school.',\n",
       " 'In',\n",
       " 'St',\n",
       " 'Albans',\n",
       " ',',\n",
       " 'the',\n",
       " 'eight-year-old',\n",
       " 'Hawking',\n",
       " 'attended',\n",
       " 'St',\n",
       " 'Albans',\n",
       " 'High',\n",
       " 'School',\n",
       " 'for',\n",
       " 'Girls',\n",
       " 'for',\n",
       " 'a',\n",
       " 'few',\n",
       " 'months.',\n",
       " 'At',\n",
       " 'that',\n",
       " 'time',\n",
       " ',',\n",
       " 'younger',\n",
       " 'boys',\n",
       " 'could',\n",
       " 'attend',\n",
       " 'one',\n",
       " 'of',\n",
       " 'the',\n",
       " 'houses',\n",
       " '.']"
      ]
     },
     "execution_count": 21,
     "metadata": {},
     "output_type": "execute_result"
    }
   ],
   "source": [
    "from nltk.tokenize import TreebankWordTokenizer\n",
    "\n",
    "tokenizer = TreebankWordTokenizer()\n",
    "tokenizer.tokenize(corpus)"
   ]
  },
  {
   "cell_type": "code",
   "execution_count": null,
   "id": "b6fa9dce-ee58-4a67-874b-8b0e6250363d",
   "metadata": {},
   "outputs": [],
   "source": []
  }
 ],
 "metadata": {
  "kernelspec": {
   "display_name": "Python 3 (ipykernel)",
   "language": "python",
   "name": "python3"
  },
  "language_info": {
   "codemirror_mode": {
    "name": "ipython",
    "version": 3
   },
   "file_extension": ".py",
   "mimetype": "text/x-python",
   "name": "python",
   "nbconvert_exporter": "python",
   "pygments_lexer": "ipython3",
   "version": "3.11.6"
  }
 },
 "nbformat": 4,
 "nbformat_minor": 5
}
